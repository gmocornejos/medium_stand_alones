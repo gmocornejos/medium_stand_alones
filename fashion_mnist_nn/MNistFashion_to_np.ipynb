{
 "cells": [
  {
   "cell_type": "code",
   "execution_count": 1,
   "id": "33ad4afe-090e-4493-b70a-110dec90d547",
   "metadata": {},
   "outputs": [],
   "source": [
    "from torchvision import datasets\n",
    "import pickle\n",
    "import numpy as np"
   ]
  },
  {
   "cell_type": "code",
   "execution_count": 2,
   "id": "ef46bd77-73c1-42cd-bcb2-2100a5f1fe9e",
   "metadata": {},
   "outputs": [],
   "source": [
    "n_clases = 10\n",
    "\n",
    "training_data = datasets.FashionMNIST(\n",
    "    root=\"data\",\n",
    "    train=True,\n",
    "    download=True\n",
    ").data.numpy()\n",
    "\n",
    "training_targets = datasets.FashionMNIST(\n",
    "    root=\"data\",\n",
    "    train=True,\n",
    "    download=True\n",
    ").targets.numpy()\n",
    "\n",
    "\n",
    "test_data = datasets.FashionMNIST(\n",
    "    root=\"data\",\n",
    "    train=False,\n",
    "    download=True\n",
    ").data.numpy()\n",
    "\n",
    "test_targets = datasets.FashionMNIST(\n",
    "    root=\"data\",\n",
    "    train=False,\n",
    "    download=True\n",
    ").targets.numpy()"
   ]
  },
  {
   "cell_type": "code",
   "execution_count": null,
   "id": "7f68afc8-5432-423f-ac3c-d89e2da041fe",
   "metadata": {},
   "outputs": [],
   "source": [
    "training_set = []\n",
    "\n",
    "for x, label in zip(training_data, training_targets):\n",
    "    y = np.zeros(n_clases)\n",
    "    y[label] = 1\n",
    "    training_set.append((\n",
    "        x,\n",
    "        y\n",
    "    ))\n",
    "\n",
    "with open(\"data/train_data.pkl\", \"wb\") as training_file:\n",
    "    pickle.dump(training_set, training_file)"
   ]
  },
  {
   "cell_type": "code",
   "execution_count": 3,
   "id": "03c66e4f-53a1-4ee1-a9a4-7eb33f461880",
   "metadata": {},
   "outputs": [],
   "source": [
    "test_set = []\n",
    "\n",
    "for x, label in zip(test_data, test_targets):\n",
    "    y = np.zeros(n_clases)\n",
    "    y[label] = 1\n",
    "    test_set.append((\n",
    "        x,\n",
    "        y\n",
    "    ))\n",
    "\n",
    "with open(\"data/test_data.pkl\", \"wb\") as test_file:\n",
    "    pickle.dump(test_set, test_file)"
   ]
  }
 ],
 "metadata": {
  "kernelspec": {
   "display_name": "Python 3 (ipykernel)",
   "language": "python",
   "name": "python3"
  },
  "language_info": {
   "codemirror_mode": {
    "name": "ipython",
    "version": 3
   },
   "file_extension": ".py",
   "mimetype": "text/x-python",
   "name": "python",
   "nbconvert_exporter": "python",
   "pygments_lexer": "ipython3",
   "version": "3.11.0rc1"
  }
 },
 "nbformat": 4,
 "nbformat_minor": 5
}
